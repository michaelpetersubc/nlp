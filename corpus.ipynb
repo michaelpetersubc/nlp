{
 "cells": [
  {
   "cell_type": "code",
   "execution_count": 15,
   "id": "a549112d-629b-4fcb-86ab-b15d73e054a9",
   "metadata": {},
   "outputs": [],
   "source": [
    "import os, sys\n",
    "import random\n",
    "import gensim\n",
    "from io import StringIO\n",
    "import datetime\n",
    "import subprocess\n",
    "import mysql.connector\n",
    "from dotenv import load_dotenv\n",
    "load_dotenv()\n",
    "from collections import Counter\n",
    "from mysql.connector import Error\n",
    "from gensim.corpora import Dictionary\n",
    "from gensim.corpora import MalletCorpus\n",
    "import helper_functions\n",
    "import pickle"
   ]
  },
  {
   "cell_type": "code",
   "execution_count": 2,
   "id": "938f5235-1e41-4060-a0e8-cf7659535b6a",
   "metadata": {},
   "outputs": [
    {
     "name": "stdout",
     "output_type": "stream",
     "text": [
      "Connected to MySQL database... \n"
     ]
    }
   ],
   "source": [
    "c = []\n",
    "connection = helper_functions.get_connection()\n",
    "cursor = connection.cursor(buffered=True)\n",
    "query = \"\"\"\n",
    "select fname,lname,f.aid,j.blobid,serialized_tokens from myfiles f join myapplicants a join my_job_market_papers j\n",
    "on f.aid=a.aid and f.blobid=j.blobid\n",
    "    \"\"\"\n",
    "cursor.execute(query)\n",
    "rows = cursor.fetchall()\n",
    "for row in rows:\n",
    "    r = [str(row[3]), str(row[0])+\" \"+str(row[1])]\n",
    "    r = r+pickle.loads(row[4])\n",
    "    c.append(r)"
   ]
  },
  {
   "cell_type": "code",
   "execution_count": 3,
   "id": "a92ba3b1-ee5c-4733-ae5c-7742bb014467",
   "metadata": {},
   "outputs": [],
   "source": [
    "#c[0]"
   ]
  },
  {
   "cell_type": "code",
   "execution_count": 4,
   "id": "babe64e0-9405-4de8-855e-95449748081a",
   "metadata": {},
   "outputs": [],
   "source": [
    "dictionary = Dictionary(c)\n"
   ]
  },
  {
   "cell_type": "code",
   "execution_count": 5,
   "id": "812605a4-c8cd-483d-b560-2b426771eea4",
   "metadata": {},
   "outputs": [],
   "source": [
    "#corpus = [dictionary.doc2bow(doc) for doc in c]\n",
    "corpus = []\n",
    "id2doc = []\n",
    "n = 0\n",
    "for doc in c:\n",
    "    corpus.append(dictionary.doc2bow(doc))\n",
    "    id2doc.append([n,doc[0]])\n",
    "    n +=1\n",
    "                   "
   ]
  },
  {
   "cell_type": "code",
   "execution_count": 6,
   "id": "f7ab17a8-ab3c-4134-9358-b03dec82afe5",
   "metadata": {},
   "outputs": [
    {
     "data": {
      "text/plain": [
       "748"
      ]
     },
     "execution_count": 6,
     "metadata": {},
     "output_type": "execute_result"
    }
   ],
   "source": [
    "len(corpus)"
   ]
  },
  {
   "cell_type": "code",
   "execution_count": 13,
   "id": "90552260-7788-4acb-9008-435d0f1b803a",
   "metadata": {},
   "outputs": [],
   "source": [
    "#output_fname = get_tmpfile(\"corpus.mallet\")\n",
    "#MalletCorpus.serialize(\"corpus.mallet\", corpus, dictionary)"
   ]
  },
  {
   "cell_type": "code",
   "execution_count": 12,
   "id": "dce167f1-3c2e-4863-b468-883395690b89",
   "metadata": {},
   "outputs": [],
   "source": [
    "#loaded_corpus = MalletCorpus(\"corpus.mallet\")"
   ]
  },
  {
   "cell_type": "code",
   "execution_count": 11,
   "id": "9c4e9f4c-1728-4037-a41b-f8f9119bd6b2",
   "metadata": {},
   "outputs": [],
   "source": [
    "#loaded_corpus[747]"
   ]
  },
  {
   "cell_type": "code",
   "execution_count": 34,
   "id": "51e81088-d42d-4ec4-b631-6bb23767a22d",
   "metadata": {},
   "outputs": [],
   "source": [
    "tfidf = gensim.models.TfidfModel(corpus, id2word=dictionary)\n",
    "lsi_corpus = gensim.models.LsiModel(tfidf[corpus], id2word=dictionary, num_topics=10)"
   ]
  },
  {
   "cell_type": "code",
   "execution_count": 37,
   "id": "061bd9f8-57bf-4850-84ee-9e45991d961a",
   "metadata": {},
   "outputs": [
    {
     "name": "stdout",
     "output_type": "stream",
     "text": [
      "[(187, 0.00875279906117721), (2930, 0.2487417459967813), (5992, 0.8022550551422578), (8224, 0.5426211927355584)]\n"
     ]
    }
   ],
   "source": [
    "words = \"climate change carbon tax\".lower().split()\n",
    "print(tfidf[dictionary.doc2bow(words)])"
   ]
  },
  {
   "cell_type": "code",
   "execution_count": 24,
   "id": "8934ca79-18f2-4dfc-93b6-826e6416eec3",
   "metadata": {},
   "outputs": [
    {
     "data": {
      "text/plain": [
       "gensim.models.lsimodel.LsiModel"
      ]
     },
     "execution_count": 24,
     "metadata": {},
     "output_type": "execute_result"
    }
   ],
   "source": [
    "\n",
    "#Serialize and Store the corpus locally for easy retrival whenver required.\n",
    "#tdif_corpus = gensim.corpora.MmCorpus.serialize('tfidf_mm', tfidf[corpus])\n",
    "#lsi_corpus = gensim.corpora.MmCorpus.serialize('lsi_mm',[tfidf[corpus]])\n",
    "\n",
    "#Load the indexed corpus\n",
    "#movie_tfidf_corpus = gensim.corpora.MmCorpus('movie_tfidf_model_mm')\n",
    "#movie_lsi_corpus = gensim.corpora.MmCorpus('movie_lsi_model_mm')\n"
   ]
  },
  {
   "cell_type": "code",
   "execution_count": 38,
   "id": "d04d1837-09ab-45f5-9067-533746dbec51",
   "metadata": {},
   "outputs": [],
   "source": [
    "\n",
    "#Load the MatrixSimilarity\n",
    "from gensim.similarities import MatrixSimilarity\n",
    "jmp_index = MatrixSimilarity(lsi_corpus[corpus], num_features = lsi_corpus.num_terms)"
   ]
  },
  {
   "cell_type": "code",
   "execution_count": 41,
   "id": "add21ceb-f632-419d-a9e2-33706d136717",
   "metadata": {},
   "outputs": [],
   "source": []
  },
  {
   "cell_type": "code",
   "execution_count": 42,
   "id": "a79e091c-fd82-45fb-b2f5-50415a2fbcf4",
   "metadata": {},
   "outputs": [
    {
     "name": "stdout",
     "output_type": "stream",
     "text": [
      "[(0, 0.16674353549000043), (1, 0.021061477110922336), (2, -0.02232567454820548), (3, -0.16253345389135543), (4, 0.07306664716810304), (5, -0.054699094707779033), (6, 0.08521069278410319), (7, 0.25518264627699466), (8, 0.03922793959133026), (9, -0.36317400668761235)]\n"
     ]
    }
   ],
   "source": [
    "print(words_lsi)"
   ]
  },
  {
   "cell_type": "code",
   "execution_count": 44,
   "id": "60808919-62e4-46f3-be48-eaef90a3d067",
   "metadata": {},
   "outputs": [],
   "source": [
    "\n"
   ]
  },
  {
   "cell_type": "code",
   "execution_count": 63,
   "id": "b7985c3f-b7ae-4e71-a885-38dffae85f44",
   "metadata": {},
   "outputs": [
    {
     "data": {
      "text/plain": [
       "(554, 0.9745666)"
      ]
     },
     "execution_count": 63,
     "metadata": {},
     "output_type": "execute_result"
    }
   ],
   "source": [
    "#sims = sorted(enumerate(sims), key=lambda item: -item[1])\n",
    "words = \"incentives mechanism design computation\".lower().split()\n",
    "words_bow = dictionary.doc2bow(words)\n",
    "words_lsi = lsi_corpus[words_bow]\n",
    "sims = jmp_index[words_lsi]\n",
    "sims = sorted(enumerate(sims), key=lambda item: -item[1])\n",
    "sims[0]"
   ]
  },
  {
   "cell_type": "code",
   "execution_count": 62,
   "id": "44c10ad9-263b-47f9-9c17-7612bc5e81fc",
   "metadata": {},
   "outputs": [
    {
     "name": "stdout",
     "output_type": "stream",
     "text": [
      "0.9745666 1606404\n",
      "0.97386414 1645134\n",
      "0.97163486 1568277\n",
      "0.97148454 1623869\n",
      "0.9673481 1621951\n"
     ]
    }
   ],
   "source": [
    "n = 0\n",
    "for doc_position, doc_score in sims:\n",
    "    v = c[doc_position]\n",
    "    print(doc_score, v[0])\n",
    "    n += 1\n",
    "    if n == 5:\n",
    "        break\n"
   ]
  }
 ],
 "metadata": {
  "kernelspec": {
   "display_name": "Python 3",
   "language": "python",
   "name": "python3"
  },
  "language_info": {
   "codemirror_mode": {
    "name": "ipython",
    "version": 3
   },
   "file_extension": ".py",
   "mimetype": "text/x-python",
   "name": "python",
   "nbconvert_exporter": "python",
   "pygments_lexer": "ipython3",
   "version": "3.7.10"
  }
 },
 "nbformat": 4,
 "nbformat_minor": 5
}
