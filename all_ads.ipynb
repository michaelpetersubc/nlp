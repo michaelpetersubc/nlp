{
 "cells": [
  {
   "cell_type": "code",
   "execution_count": 1,
   "id": "51011fd4-c62c-4ad0-be48-29b3b219c03f",
   "metadata": {},
   "outputs": [
    {
     "data": {
      "text/plain": [
       "4756"
      ]
     },
     "execution_count": 1,
     "metadata": {},
     "output_type": "execute_result"
    }
   ],
   "source": [
    "import spacy\n",
    "nlp  bs4 import BeautifulSoup\n",
    "import urllib.request as u, json\n",
    "url = \"https://backend.econjobmarket.org/data/zz_public/json/AdHistory2\"\n",
    "json_url = u.urlopen(url)\n",
    "data == spacy.load(\"en_core_web_sm\")\n",
    "from json.loads(json_url.read())\n",
    "len(data)"
   ]
  },
  {
   "cell_type": "code",
   "execution_count": 2,
   "id": "d49f52b8-68c9-4e8b-81de-64d918e04fca",
   "metadata": {},
   "outputs": [
    {
     "data": {
      "text/plain": [
       "dict"
      ]
     },
     "execution_count": 2,
     "metadata": {},
     "output_type": "execute_result"
    }
   ],
   "source": [
    "type(data[1])"
   ]
  },
  {
   "cell_type": "code",
   "execution_count": 3,
   "id": "d764df8b-ed5f-4c79-8c5e-4e89d7ce2a17",
   "metadata": {},
   "outputs": [],
   "source": [
    "def tokenizer(sentence):\n",
    "    cleantext = BeautifulSoup(sentence, \"lxml\").text\n",
    "    cleantext = cleantext.replace(\"\\r\", \"\")\n",
    "    processed_text = nlp(cleantext)\n",
    "    words = [\n",
    "    token.text\n",
    "    for token in processed_text\n",
    "    if not token.is_stop and not token.is_punct\n",
    "    ]\n",
    "    #print(words)\n",
    "    return words"
   ]
  },
  {
   "cell_type": "code",
   "execution_count": 10,
   "id": "b3b3b102-2e45-49ed-b33a-69fd1e6b7af6",
   "metadata": {},
   "outputs": [],
   "source": [
    "#%time data['adtext_tokens'] = data['adtext'].map(lambda x: tokenizer(x))\n",
    "def add_field(d):\n",
    "    d['adtext_tokens'] = tokenizer(d['adtext'])\n",
    "    return d\n",
    "#print(add_field(data[1]))\n",
    "\n",
    "for d in data:\n",
    "    d = add_field(d)\n",
    "#result = [dict(item, **{'elem':'value'}) for item in myList]\n"
   ]
  },
  {
   "cell_type": "code",
   "execution_count": 12,
   "id": "591d1c88-fa7f-4d48-99ed-e705cf0b27b6",
   "metadata": {},
   "outputs": [
    {
     "data": {
      "text/plain": [
       "['Department',\n",
       " 'Economics',\n",
       " 'invites',\n",
       " 'applications',\n",
       " 'lecturer',\n",
       " 'position',\n",
       " 'undergraduate',\n",
       " 'and/or',\n",
       " 'graduate',\n",
       " 'programs',\n",
       " 'beginning',\n",
       " 'July',\n",
       " '1',\n",
       " '2018',\n",
       " 'time',\n",
       " 'position',\n",
       " 'multi',\n",
       " 'year',\n",
       " 'renewal',\n",
       " 'contingent',\n",
       " 'successful',\n",
       " 'review',\n",
       " 'Applicants',\n",
       " 'experience',\n",
       " 'teaching',\n",
       " 'Economics',\n",
       " 'Financial',\n",
       " 'Economics',\n",
       " 'undergraduate',\n",
       " 'graduate',\n",
       " 'level',\n",
       " 'expected',\n",
       " 'course',\n",
       " 'load',\n",
       " 'courses',\n",
       " 'academic',\n",
       " 'year',\n",
       " 'information',\n",
       " 'apply',\n",
       " 'academicjobs.columbia.edu',\n",
       " 'applicants',\n",
       " 'Central?quickFind=65728',\n",
       " 'Columbia',\n",
       " 'University',\n",
       " 'Equal',\n",
       " 'Opportunity',\n",
       " 'Affirmative',\n",
       " 'Action',\n",
       " 'employer']"
      ]
     },
     "execution_count": 12,
     "metadata": {},
     "output_type": "execute_result"
    }
   ],
   "source": [
    "list(data[4][\"adtext_tokens\"])"
   ]
  }
 ],
 "metadata": {
  "kernelspec": {
   "display_name": "Python 3",
   "language": "python",
   "name": "python3"
  },
  "language_info": {
   "codemirror_mode": {
    "name": "ipython",
    "version": 3
   },
   "file_extension": ".py",
   "mimetype": "text/x-python",
   "name": "python",
   "nbconvert_exporter": "python",
   "pygments_lexer": "ipython3",
   "version": "3.7.10"
  }
 },
 "nbformat": 4,
 "nbformat_minor": 5
}
