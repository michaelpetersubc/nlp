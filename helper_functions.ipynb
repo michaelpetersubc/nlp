{
 "cells": [
  {
   "cell_type": "code",
   "execution_count": null,
   "id": "c081f086-8ce2-4fe8-b42a-c137006c267b",
   "metadata": {},
   "outputs": [],
   "source": []
  },
  {
   "cell_type": "code",
   "execution_count": 6,
   "id": "b40a9078-c9e0-48b6-be6b-6d4bf736d1dd",
   "metadata": {},
   "outputs": [],
   "source": [
    "def get_connection():\n",
    "    try:\n",
    "        connection = mysql.connector.connect(host='127.0.0.1',\n",
    "                                 database=os.environ.get('foodatabase'),\n",
    "                                 user=os.environ.get('foousername'),\n",
    "                                 password=os.environ.get('foopassword'),\n",
    "                                 port = os.environ.get('fooport'),\n",
    "                                 use_pure=True)\n",
    "        if connection.is_connected():\n",
    "            #cursor = connection.cursor(buffered=True)\n",
    "            print(\"Connected to MySQL database... \")\n",
    "            return connection\n",
    "           #db_Info = connection.get_server_info()\n",
    "    except Error as e :\n",
    "            print (\"Error while connecting to MySQL\", e)\n",
    "    return false\n"
   ]
  }
 ],
 "metadata": {
  "kernelspec": {
   "display_name": "Python 3",
   "language": "python",
   "name": "python3"
  },
  "language_info": {
   "codemirror_mode": {
    "name": "ipython",
    "version": 3
   },
   "file_extension": ".py",
   "mimetype": "text/x-python",
   "name": "python",
   "nbconvert_exporter": "python",
   "pygments_lexer": "ipython3",
   "version": "3.7.10"
  }
 },
 "nbformat": 4,
 "nbformat_minor": 5
}
